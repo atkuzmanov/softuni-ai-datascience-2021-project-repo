{
 "cells": [
  {
   "cell_type": "code",
   "execution_count": 1,
   "metadata": {},
   "outputs": [],
   "source": [
    "%matplotlib inline"
   ]
  },
  {
   "cell_type": "code",
   "execution_count": 2,
   "metadata": {},
   "outputs": [],
   "source": [
    "### Python imports\n",
    "import sympy\n",
    "import math\n",
    "import cmath\n",
    "import numpy as np\n",
    "import numpy.polynomial.polynomial as p\n",
    "import matplotlib.pyplot as plt\n",
    "from turtle import *\n",
    "import re\n",
    "from sympy.ntheory import discrete_log\n",
    "from matplotlib.transforms import Affine2D\n",
    "import skimage.io\n",
    "import time\n",
    "# imports for egienvalues and eigenvectors\n",
    "from numpy import linalg as LA\n",
    "import pandas as pd\n",
    "from sklearn.preprocessing import StandardScaler\n",
    "from sklearn.decomposition import PCA as sklearnPCA\n",
    "# imports for PCA\n",
    "from mpl_toolkits.mplot3d import Axes3D\n",
    "from sklearn import datasets\n",
    "from sklearn.decomposition import PCA\n",
    "import seaborn as sns"
   ]
  },
  {
   "cell_type": "markdown",
   "metadata": {},
   "source": [
    "# 30035\n",
    "---"
   ]
  },
  {
   "cell_type": "markdown",
   "metadata": {},
   "source": []
  },
  {
   "cell_type": "markdown",
   "metadata": {},
   "source": []
  },
  {
   "cell_type": "markdown",
   "metadata": {},
   "source": []
  },
  {
   "cell_type": "code",
   "execution_count": null,
   "metadata": {},
   "outputs": [],
   "source": []
  },
  {
   "cell_type": "code",
   "execution_count": null,
   "metadata": {},
   "outputs": [],
   "source": []
  },
  {
   "cell_type": "code",
   "execution_count": null,
   "metadata": {},
   "outputs": [],
   "source": []
  },
  {
   "cell_type": "code",
   "execution_count": null,
   "metadata": {},
   "outputs": [],
   "source": []
  },
  {
   "cell_type": "code",
   "execution_count": null,
   "metadata": {},
   "outputs": [],
   "source": []
  },
  {
   "cell_type": "code",
   "execution_count": null,
   "metadata": {},
   "outputs": [],
   "source": []
  },
  {
   "cell_type": "code",
   "execution_count": null,
   "metadata": {},
   "outputs": [],
   "source": []
  },
  {
   "cell_type": "code",
   "execution_count": null,
   "metadata": {},
   "outputs": [],
   "source": []
  },
  {
   "cell_type": "code",
   "execution_count": null,
   "metadata": {},
   "outputs": [],
   "source": []
  },
  {
   "cell_type": "code",
   "execution_count": null,
   "metadata": {},
   "outputs": [],
   "source": []
  },
  {
   "cell_type": "markdown",
   "metadata": {},
   "source": [
    "## References <a id=\"ReferencesSection\"></a>\n",
    "\n",
    "### SoftUni Module: Artificial Intelligence - February 2021 <a id=\"SoftUniModuleArtificialIntelligenceFebruary2021\"></a>\n",
    "<https://softuni.bg/modules/111/artificial-intelligence-february-2021/1276>\n",
    "\n",
    "### SoftUni Course: Math Concepts for Developers - February 2021 <a id=\"SoftUniCourseMathConceptsforDevelopersFebruary2021\"></a>\n",
    "<https://softuni.bg/trainings/3282/math-concepts-for-developers-february-2021>\n",
    "\n",
    "### SoftUni Course: Data Science - June 2021 <a id=\"SoftUniCourseDataScienceJune2021\"></a>\n",
    "<https://softuni.bg/trainings/3283/data-science-june-2021>\n",
    "\n",
    "### SoftUni Course: Machine Learning - September 2021 <a id=\"SoftUniCourseMachineLearningSeptember2021\"></a>\n",
    "<https://softuni.bg/trainings/3284/machine-learning-september-2021>\n",
    "\n",
    "### SoftUni Course: Deep Learning - December 2021 <a id=\"SoftUniCourseDeepLearningDecember2021\"></a>\n",
    "<https://softuni.bg/trainings/3285/deep-learning-december-2021>\n",
    "\n",
    "### SoftUni Course: Math Concepts for Developers - February 2021 - LINEAR ALGEBRA<a id=\"SoftUniCourseMathConceptsforDevelopersFebruary2021LINEARALGEBRA\"></a>\n",
    "<https://softuni.bg/trainings/3282/math-concepts-for-developers-february-2021#lesson-24870>\n",
    "\n",
    "### SoftUni Course: Math Concepts for Developers - February 2021 - LINEAR ALGEBRA EXERCISE<a id=\"SoftUniCourseMathConceptsforDevelopersFebruary2021LINEARALGEBRAEXERCISE\"></a>\n",
    "<https://softuni.bg/trainings/3282/math-concepts-for-developers-february-2021#lesson-24871>\n",
    "\n",
    "---\n",
    "\n",
    "###  <a id=\"\"></a>\n",
    "<>\n",
    "\n",
    "###  <a id=\"\"></a>\n",
    "<>\n",
    "\n",
    "###  <a id=\"\"></a>\n",
    "<>\n",
    "\n",
    "###  <a id=\"\"></a>\n",
    "<>\n",
    "\n",
    "###  <a id=\"\"></a>\n",
    "<>\n",
    "\n",
    "###  <a id=\"\"></a>\n",
    "<>\n",
    "\n",
    "###  <a id=\"\"></a>\n",
    "<>\n",
    "\n",
    "###  <a id=\"\"></a>\n",
    "<>\n",
    "\n",
    "###  <a id=\"\"></a>\n",
    "<>\n",
    "\n",
    "###  <a id=\"\"></a>\n",
    "<>\n",
    "\n",
    "###  <a id=\"\"></a>\n",
    "<>\n",
    "\n",
    "###  <a id=\"\"></a>\n",
    "<>\n",
    "\n",
    "###  <a id=\"\"></a>\n",
    "<>\n",
    "\n",
    "###  <a id=\"\"></a>\n",
    "<>\n",
    "\n",
    "###  <a id=\"\"></a>\n",
    "<>\n",
    "\n",
    "###  <a id=\"\"></a>\n",
    "<>\n",
    "\n",
    "###  <a id=\"\"></a>\n",
    "<>\n",
    "\n",
    "###  <a id=\"\"></a>\n",
    "<>\n",
    "\n",
    "###  <a id=\"\"></a>\n",
    "<>\n",
    "\n",
    "###  <a id=\"\"></a>\n",
    "<>\n",
    "\n",
    "###  <a id=\"\"></a>\n",
    "<>\n",
    "\n",
    "###  <a id=\"\"></a>\n",
    "<>\n",
    "\n",
    "###  <a id=\"\"></a>\n",
    "<>\n",
    "\n",
    "###  <a id=\"\"></a>\n",
    "<>\n",
    "\n",
    "###  <a id=\"\"></a>\n",
    "<>\n",
    "\n",
    "###  <a id=\"\"></a>\n",
    "<>\n"
   ]
  }
 ],
 "metadata": {
  "kernelspec": {
   "display_name": "Python 3",
   "language": "python",
   "name": "python3"
  },
  "language_info": {
   "codemirror_mode": {
    "name": "ipython",
    "version": 3
   },
   "file_extension": ".py",
   "mimetype": "text/x-python",
   "name": "python",
   "nbconvert_exporter": "python",
   "pygments_lexer": "ipython3",
   "version": "3.8.5"
  },
  "toc": {
   "base_numbering": 1,
   "nav_menu": {},
   "number_sections": true,
   "sideBar": true,
   "skip_h1_title": false,
   "title_cell": "Table of Contents",
   "title_sidebar": "Contents",
   "toc_cell": false,
   "toc_position": {},
   "toc_section_display": true,
   "toc_window_display": false
  }
 },
 "nbformat": 4,
 "nbformat_minor": 4
}
