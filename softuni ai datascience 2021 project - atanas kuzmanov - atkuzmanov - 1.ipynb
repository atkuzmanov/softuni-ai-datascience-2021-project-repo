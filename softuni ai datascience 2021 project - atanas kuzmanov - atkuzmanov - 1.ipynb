{
 "cells": [
  {
   "cell_type": "code",
   "execution_count": 286,
   "metadata": {},
   "outputs": [],
   "source": [
    "%matplotlib inline"
   ]
  },
  {
   "cell_type": "code",
   "execution_count": 76,
   "metadata": {},
   "outputs": [],
   "source": [
    "### Python imports\n",
    "import sympy\n",
    "import math\n",
    "import cmath\n",
    "import numpy as np\n",
    "import numpy.polynomial.polynomial as p\n",
    "import matplotlib.pyplot as plt\n",
    "from turtle import *\n",
    "import re\n",
    "from sympy.ntheory import discrete_log\n",
    "from matplotlib.transforms import Affine2D\n",
    "import skimage.io\n",
    "import time\n",
    "# imports for egienvalues and eigenvectors\n",
    "from numpy import linalg as LA\n",
    "import pandas as pd\n",
    "from sklearn.preprocessing import StandardScaler\n",
    "from sklearn.decomposition import PCA as sklearnPCA\n",
    "# imports for PCA\n",
    "from mpl_toolkits.mplot3d import Axes3D\n",
    "from sklearn import datasets\n",
    "from sklearn.decomposition import PCA\n",
    "import seaborn as sns\n",
    "# data science imports\n",
    "import nose.tools\n",
    "# other imports\n",
    "import re"
   ]
  },
  {
   "cell_type": "code",
   "execution_count": 292,
   "metadata": {},
   "outputs": [],
   "source": [
    "### Additional options:\n",
    "pd.options.display.max_rows = None"
   ]
  },
  {
   "cell_type": "markdown",
   "metadata": {},
   "source": [
    "# Project `80085` - `Double D's` a.k.a. `Dirty Data` 18+\n",
    "---"
   ]
  },
  {
   "cell_type": "markdown",
   "metadata": {},
   "source": [
    "## Putting the `'D'` in `Data Science`"
   ]
  },
  {
   "cell_type": "markdown",
   "metadata": {},
   "source": [
    "## She wants the `'D'`, as in `Data Science`, if you know what I mean?!"
   ]
  },
  {
   "cell_type": "markdown",
   "metadata": {},
   "source": [
    "<img src=\"./resources/images/qTBorGeMc.png\" width=\"490\"/>\n",
    "\n",
    "<div style=\"text-align: center\">Age restrictions - 18+ only!</div>\n",
    "\n",
    "[[Reference]](#18Birthday1781099)"
   ]
  },
  {
   "cell_type": "markdown",
   "metadata": {},
   "source": [
    "<img src=\"./resources/images/dataset-cover.jpg\" width=\"1080\"/>\n",
    "\n",
    "[[Reference]](#Girl1257230)"
   ]
  },
  {
   "cell_type": "markdown",
   "metadata": {},
   "source": [
    "<img src=\"./resources/images/yTkrqR5gc.jpg\" width=\"490\"/>\n",
    "\n",
    "[[Reference]](#Girl1257230)"
   ]
  },
  {
   "cell_type": "code",
   "execution_count": 3,
   "metadata": {},
   "outputs": [
    {
     "data": {
      "text/html": [
       "<div>\n",
       "<style scoped>\n",
       "    .dataframe tbody tr th:only-of-type {\n",
       "        vertical-align: middle;\n",
       "    }\n",
       "\n",
       "    .dataframe tbody tr th {\n",
       "        vertical-align: top;\n",
       "    }\n",
       "\n",
       "    .dataframe thead th {\n",
       "        text-align: right;\n",
       "    }\n",
       "</style>\n",
       "<table border=\"1\" class=\"dataframe\">\n",
       "  <thead>\n",
       "    <tr style=\"text-align: right;\">\n",
       "      <th></th>\n",
       "      <th>URL</th>\n",
       "      <th>Name</th>\n",
       "      <th>Bio</th>\n",
       "      <th>Subscribers</th>\n",
       "      <th>Videos_views</th>\n",
       "      <th>Pornhub_rank</th>\n",
       "      <th>Pornstar_rank</th>\n",
       "      <th>Uploaded_by_actor</th>\n",
       "      <th>Paid_videos</th>\n",
       "      <th>Fan_club_material</th>\n",
       "      <th>...</th>\n",
       "      <th>Pornstar Profile Views</th>\n",
       "      <th>Profile Views</th>\n",
       "      <th>Relationship status</th>\n",
       "      <th>Star Sign</th>\n",
       "      <th>Tattoos</th>\n",
       "      <th>Turn Offs</th>\n",
       "      <th>Turn Ons</th>\n",
       "      <th>Video Views</th>\n",
       "      <th>Videos Watched</th>\n",
       "      <th>Hometown</th>\n",
       "    </tr>\n",
       "  </thead>\n",
       "  <tbody>\n",
       "    <tr>\n",
       "      <th>0</th>\n",
       "      <td>http://pornhub.com/pornstar/lana-rhoades</td>\n",
       "      <td>Lana Rhoades</td>\n",
       "      <td>Lana Rhoades is a Virgo born in September of 1...</td>\n",
       "      <td>1.4M</td>\n",
       "      <td>903,120,820</td>\n",
       "      <td>1</td>\n",
       "      <td>1.0</td>\n",
       "      <td>26.0</td>\n",
       "      <td>6.0</td>\n",
       "      <td>NaN</td>\n",
       "      <td>...</td>\n",
       "      <td>121,140,882</td>\n",
       "      <td>192,086,347</td>\n",
       "      <td>Open</td>\n",
       "      <td>Virgo</td>\n",
       "      <td>-</td>\n",
       "      <td>-</td>\n",
       "      <td>-</td>\n",
       "      <td>-</td>\n",
       "      <td>51</td>\n",
       "      <td>-</td>\n",
       "    </tr>\n",
       "    <tr>\n",
       "      <th>1</th>\n",
       "      <td>http://pornhub.com/pornstar/brandi-love</td>\n",
       "      <td>Brandi Love</td>\n",
       "      <td>Brandi Love started her porno career at the ag...</td>\n",
       "      <td>626K</td>\n",
       "      <td>595,530,540</td>\n",
       "      <td>6</td>\n",
       "      <td>6.0</td>\n",
       "      <td>101.0</td>\n",
       "      <td>68.0</td>\n",
       "      <td>35.0</td>\n",
       "      <td>...</td>\n",
       "      <td>82,587,725</td>\n",
       "      <td>59,004,138</td>\n",
       "      <td>Open</td>\n",
       "      <td>Aries</td>\n",
       "      <td>Yes</td>\n",
       "      <td>hateful and judgmental people. I do not like p...</td>\n",
       "      <td>People who exude sexual confidence. I like peo...</td>\n",
       "      <td>-</td>\n",
       "      <td>746</td>\n",
       "      <td>Detroit</td>\n",
       "    </tr>\n",
       "    <tr>\n",
       "      <th>2</th>\n",
       "      <td>http://pornhub.com/pornstar/mia-malkova</td>\n",
       "      <td>Mia Malkova</td>\n",
       "      <td>Some girls are so damn hot that they can get y...</td>\n",
       "      <td>1.1M</td>\n",
       "      <td>623,234,336</td>\n",
       "      <td>5</td>\n",
       "      <td>5.0</td>\n",
       "      <td>90.0</td>\n",
       "      <td>11.0</td>\n",
       "      <td>NaN</td>\n",
       "      <td>...</td>\n",
       "      <td>90,190,178</td>\n",
       "      <td>73,577,523</td>\n",
       "      <td>Open</td>\n",
       "      <td>Gemini</td>\n",
       "      <td>No</td>\n",
       "      <td>Cocky, Disrespectful, Unhygienic, Immature, Ye...</td>\n",
       "      <td>Sense of Humor, Great Smile, English Accents, ...</td>\n",
       "      <td>-</td>\n",
       "      <td>779</td>\n",
       "      <td>-</td>\n",
       "    </tr>\n",
       "    <tr>\n",
       "      <th>3</th>\n",
       "      <td>http://pornhub.com/pornstar/eva-elfie</td>\n",
       "      <td>Eva Elfie</td>\n",
       "      <td>Hey! I'm a young Siberian girl and I want to p...</td>\n",
       "      <td>1.2M</td>\n",
       "      <td>466,905,043</td>\n",
       "      <td>4</td>\n",
       "      <td>4.0</td>\n",
       "      <td>22.0</td>\n",
       "      <td>20.0</td>\n",
       "      <td>NaN</td>\n",
       "      <td>...</td>\n",
       "      <td>16,892,342</td>\n",
       "      <td>91,253,351</td>\n",
       "      <td>Single</td>\n",
       "      <td>Gemini</td>\n",
       "      <td>No</td>\n",
       "      <td>-</td>\n",
       "      <td>Smart people, shy boys and girls kisses.</td>\n",
       "      <td>-</td>\n",
       "      <td>226</td>\n",
       "      <td>-</td>\n",
       "    </tr>\n",
       "    <tr>\n",
       "      <th>4</th>\n",
       "      <td>http://pornhub.com/pornstar/abella-danger</td>\n",
       "      <td>Abella Danger</td>\n",
       "      <td>Danger might be her last name, but when it com...</td>\n",
       "      <td>868K</td>\n",
       "      <td>862,007,676</td>\n",
       "      <td>2</td>\n",
       "      <td>2.0</td>\n",
       "      <td>3.0</td>\n",
       "      <td>NaN</td>\n",
       "      <td>NaN</td>\n",
       "      <td>...</td>\n",
       "      <td>71,825,882</td>\n",
       "      <td>102,153,809</td>\n",
       "      <td>Single</td>\n",
       "      <td>Scorpio</td>\n",
       "      <td>-</td>\n",
       "      <td>-</td>\n",
       "      <td>-</td>\n",
       "      <td>-</td>\n",
       "      <td>17</td>\n",
       "      <td>-</td>\n",
       "    </tr>\n",
       "  </tbody>\n",
       "</table>\n",
       "<p>5 rows × 47 columns</p>\n",
       "</div>"
      ],
      "text/plain": [
       "                                         URL           Name  \\\n",
       "0   http://pornhub.com/pornstar/lana-rhoades   Lana Rhoades   \n",
       "1    http://pornhub.com/pornstar/brandi-love    Brandi Love   \n",
       "2    http://pornhub.com/pornstar/mia-malkova    Mia Malkova   \n",
       "3      http://pornhub.com/pornstar/eva-elfie      Eva Elfie   \n",
       "4  http://pornhub.com/pornstar/abella-danger  Abella Danger   \n",
       "\n",
       "                                                 Bio Subscribers Videos_views  \\\n",
       "0  Lana Rhoades is a Virgo born in September of 1...        1.4M  903,120,820   \n",
       "1  Brandi Love started her porno career at the ag...        626K  595,530,540   \n",
       "2  Some girls are so damn hot that they can get y...        1.1M  623,234,336   \n",
       "3  Hey! I'm a young Siberian girl and I want to p...        1.2M  466,905,043   \n",
       "4  Danger might be her last name, but when it com...        868K  862,007,676   \n",
       "\n",
       "   Pornhub_rank  Pornstar_rank  Uploaded_by_actor  Paid_videos  \\\n",
       "0             1            1.0               26.0          6.0   \n",
       "1             6            6.0              101.0         68.0   \n",
       "2             5            5.0               90.0         11.0   \n",
       "3             4            4.0               22.0         20.0   \n",
       "4             2            2.0                3.0          NaN   \n",
       "\n",
       "   Fan_club_material  ...  Pornstar Profile Views  Profile Views  \\\n",
       "0                NaN  ...             121,140,882    192,086,347   \n",
       "1               35.0  ...              82,587,725     59,004,138   \n",
       "2                NaN  ...              90,190,178     73,577,523   \n",
       "3                NaN  ...              16,892,342     91,253,351   \n",
       "4                NaN  ...              71,825,882    102,153,809   \n",
       "\n",
       "   Relationship status  Star Sign Tattoos  \\\n",
       "0                 Open      Virgo       -   \n",
       "1                 Open      Aries     Yes   \n",
       "2                 Open     Gemini      No   \n",
       "3               Single     Gemini      No   \n",
       "4               Single    Scorpio       -   \n",
       "\n",
       "                                           Turn Offs  \\\n",
       "0                                                  -   \n",
       "1  hateful and judgmental people. I do not like p...   \n",
       "2  Cocky, Disrespectful, Unhygienic, Immature, Ye...   \n",
       "3                                                  -   \n",
       "4                                                  -   \n",
       "\n",
       "                                            Turn Ons Video Views  \\\n",
       "0                                                  -           -   \n",
       "1  People who exude sexual confidence. I like peo...           -   \n",
       "2  Sense of Humor, Great Smile, English Accents, ...           -   \n",
       "3           Smart people, shy boys and girls kisses.           -   \n",
       "4                                                  -           -   \n",
       "\n",
       "  Videos Watched Hometown  \n",
       "0             51        -  \n",
       "1            746  Detroit  \n",
       "2            779        -  \n",
       "3            226        -  \n",
       "4             17        -  \n",
       "\n",
       "[5 rows x 47 columns]"
      ]
     },
     "execution_count": 3,
     "metadata": {},
     "output_type": "execute_result"
    }
   ],
   "source": [
    "### Reading the data.\n",
    "df_porn_stars = pd.read_csv(\n",
    "    filepath_or_buffer='./data/pornstars_v3.csv',\n",
    "    sep=',',\n",
    "    engine='python')\n",
    "\n",
    "df_porn_stars.head(5)"
   ]
  },
  {
   "cell_type": "code",
   "execution_count": 4,
   "metadata": {},
   "outputs": [
    {
     "data": {
      "text/plain": [
       "(17374, 47)"
      ]
     },
     "execution_count": 4,
     "metadata": {},
     "output_type": "execute_result"
    }
   ],
   "source": [
    "df_porn_stars.shape"
   ]
  },
  {
   "cell_type": "code",
   "execution_count": 5,
   "metadata": {},
   "outputs": [],
   "source": [
    "# df_porn_stars.columns = [\n",
    "#     \"url\",\n",
    "#     \"name\",\n",
    "#     \"bio\",\n",
    "#     \"subscribers\",\n",
    "#     \"videos_views\",\n",
    "#     \"pornhub_rank\",\n",
    "#     \"model_rank\",\n",
    "#     \"public_videos\",\n",
    "#     \"paid_videos\",\n",
    "#     \"fan_club_material\",\n",
    "#     \"verified_pornstar\",\n",
    "#     \"verified_member\",\n",
    "#     \"premium_user\",\n",
    "# ]"
   ]
  },
  {
   "cell_type": "code",
   "execution_count": 6,
   "metadata": {},
   "outputs": [
    {
     "data": {
      "text/plain": [
       "Index(['url', 'name', 'bio', 'subscribers', 'videos_views', 'pornhub_rank',\n",
       "       'pornstar_rank', 'uploaded_by_actor', 'paid_videos',\n",
       "       'fan_club_material', 'verified_pornstar', 'verified_member',\n",
       "       'premium_user', 'pornhub_awards_winner', 'age', 'background',\n",
       "       'birthday', 'birthplace', 'born', 'career start and end',\n",
       "       'career status', 'city and country', 'endowment', 'ethnicity',\n",
       "       'eye color', 'facial hair', 'fake boobs', 'foreskin', 'gender',\n",
       "       'hair color', 'height', 'weight', 'interested in',\n",
       "       'interests and hobbies', 'joined', 'measurements', 'piercings',\n",
       "       'pornstar profile views', 'profile views', 'relationship status',\n",
       "       'star sign', 'tattoos', 'turn offs', 'turn ons', 'video views',\n",
       "       'videos watched', 'hometown'],\n",
       "      dtype='object')"
      ]
     },
     "execution_count": 6,
     "metadata": {},
     "output_type": "execute_result"
    }
   ],
   "source": [
    "df_porn_stars.columns = [x.lower() for x in df_porn_stars.columns]\n",
    "df_porn_stars.columns"
   ]
  },
  {
   "cell_type": "code",
   "execution_count": 7,
   "metadata": {},
   "outputs": [
    {
     "data": {
      "text/plain": [
       "Index(['url', 'name', 'bio', 'subscribers', 'videos_views', 'pornhub_rank',\n",
       "       'pornstar_rank', 'uploaded_by_actor', 'paid_videos',\n",
       "       'fan_club_material', 'verified_pornstar', 'verified_member',\n",
       "       'premium_user', 'pornhub_awards_winner', 'age', 'background',\n",
       "       'birthday', 'birthplace', 'born', 'career_start_and_end',\n",
       "       'career_status', 'city_and_country', 'endowment', 'ethnicity',\n",
       "       'eye_color', 'facial_hair', 'fake_boobs', 'foreskin', 'gender',\n",
       "       'hair_color', 'height', 'weight', 'interested_in',\n",
       "       'interests_and_hobbies', 'joined', 'measurements', 'piercings',\n",
       "       'pornstar_profile_views', 'profile_views', 'relationship_status',\n",
       "       'star_sign', 'tattoos', 'turn_offs', 'turn_ons', 'video_views',\n",
       "       'videos_watched', 'hometown'],\n",
       "      dtype='object')"
      ]
     },
     "execution_count": 7,
     "metadata": {},
     "output_type": "execute_result"
    }
   ],
   "source": [
    "df_porn_stars.columns = df_porn_stars.columns.str.replace(' ', '_')\n",
    "df_porn_stars.columns"
   ]
  },
  {
   "cell_type": "code",
   "execution_count": 8,
   "metadata": {},
   "outputs": [
    {
     "data": {
      "text/plain": [
       "'17374 observations on 47 features'"
      ]
     },
     "execution_count": 8,
     "metadata": {},
     "output_type": "execute_result"
    }
   ],
   "source": [
    "def observations_and_features(dataset):\n",
    "    \"\"\"\n",
    "    Returns the number of observations and features in the provided dataset\n",
    "    \"\"\"\n",
    "    observations = dataset.shape[0]\n",
    "    features = dataset.shape[1]\n",
    "    return \"{} observations on {} features\".format(observations, features)\n",
    "\n",
    "observations_and_features(df_porn_stars)"
   ]
  },
  {
   "cell_type": "code",
   "execution_count": 9,
   "metadata": {},
   "outputs": [
    {
     "data": {
      "text/plain": [
       "url                        object\n",
       "name                       object\n",
       "bio                        object\n",
       "subscribers                object\n",
       "videos_views               object\n",
       "pornhub_rank                int64\n",
       "pornstar_rank             float64\n",
       "uploaded_by_actor         float64\n",
       "paid_videos               float64\n",
       "fan_club_material         float64\n",
       "verified_pornstar           int64\n",
       "verified_member             int64\n",
       "premium_user                int64\n",
       "pornhub_awards_winner       int64\n",
       "age                        object\n",
       "background                 object\n",
       "birthday                   object\n",
       "birthplace                 object\n",
       "born                       object\n",
       "career_start_and_end       object\n",
       "career_status              object\n",
       "city_and_country           object\n",
       "endowment                  object\n",
       "ethnicity                  object\n",
       "eye_color                  object\n",
       "facial_hair                object\n",
       "fake_boobs                 object\n",
       "foreskin                   object\n",
       "gender                     object\n",
       "hair_color                 object\n",
       "height                     object\n",
       "weight                     object\n",
       "interested_in              object\n",
       "interests_and_hobbies      object\n",
       "joined                     object\n",
       "measurements               object\n",
       "piercings                  object\n",
       "pornstar_profile_views     object\n",
       "profile_views              object\n",
       "relationship_status        object\n",
       "star_sign                  object\n",
       "tattoos                    object\n",
       "turn_offs                  object\n",
       "turn_ons                   object\n",
       "video_views                object\n",
       "videos_watched             object\n",
       "hometown                   object\n",
       "dtype: object"
      ]
     },
     "execution_count": 9,
     "metadata": {},
     "output_type": "execute_result"
    }
   ],
   "source": [
    "df_porn_stars.dtypes"
   ]
  },
  {
   "cell_type": "code",
   "execution_count": 10,
   "metadata": {},
   "outputs": [
    {
     "data": {
      "text/plain": [
       "url                       False\n",
       "name                      False\n",
       "bio                       False\n",
       "subscribers               False\n",
       "videos_views              False\n",
       "pornhub_rank              False\n",
       "pornstar_rank              True\n",
       "uploaded_by_actor          True\n",
       "paid_videos                True\n",
       "fan_club_material          True\n",
       "verified_pornstar         False\n",
       "verified_member           False\n",
       "premium_user              False\n",
       "pornhub_awards_winner     False\n",
       "age                       False\n",
       "background                False\n",
       "birthday                  False\n",
       "birthplace                False\n",
       "born                      False\n",
       "career_start_and_end      False\n",
       "career_status             False\n",
       "city_and_country          False\n",
       "endowment                 False\n",
       "ethnicity                 False\n",
       "eye_color                 False\n",
       "facial_hair               False\n",
       "fake_boobs                False\n",
       "foreskin                  False\n",
       "gender                    False\n",
       "hair_color                False\n",
       "height                    False\n",
       "weight                    False\n",
       "interested_in             False\n",
       "interests_and_hobbies     False\n",
       "joined                    False\n",
       "measurements              False\n",
       "piercings                 False\n",
       "pornstar_profile_views    False\n",
       "profile_views             False\n",
       "relationship_status       False\n",
       "star_sign                 False\n",
       "tattoos                   False\n",
       "turn_offs                 False\n",
       "turn_ons                  False\n",
       "video_views               False\n",
       "videos_watched            False\n",
       "hometown                  False\n",
       "dtype: bool"
      ]
     },
     "execution_count": 10,
     "metadata": {},
     "output_type": "execute_result"
    }
   ],
   "source": [
    "df_porn_stars.isna().any()"
   ]
  },
  {
   "cell_type": "code",
   "execution_count": 11,
   "metadata": {},
   "outputs": [],
   "source": [
    "### Creating a clean copy of the data frame.\n",
    "df_porn_stars_clean = df_porn_stars.copy(deep=True)"
   ]
  },
  {
   "cell_type": "code",
   "execution_count": 12,
   "metadata": {},
   "outputs": [
    {
     "data": {
      "text/plain": [
       "(17374, 47)"
      ]
     },
     "execution_count": 12,
     "metadata": {},
     "output_type": "execute_result"
    }
   ],
   "source": [
    "df_porn_stars_clean.shape"
   ]
  },
  {
   "cell_type": "code",
   "execution_count": 13,
   "metadata": {},
   "outputs": [],
   "source": [
    "# df_porn_stars_clean = df_porn_stars_clean.dropna(how='any')\n",
    "# df_porn_stars_clean.shape\n",
    "# df_porn_stars_clean"
   ]
  },
  {
   "cell_type": "code",
   "execution_count": 14,
   "metadata": {},
   "outputs": [
    {
     "data": {
      "text/plain": [
       "url                       False\n",
       "name                      False\n",
       "bio                       False\n",
       "subscribers               False\n",
       "videos_views              False\n",
       "pornhub_rank              False\n",
       "pornstar_rank             False\n",
       "uploaded_by_actor         False\n",
       "paid_videos               False\n",
       "fan_club_material         False\n",
       "verified_pornstar         False\n",
       "verified_member           False\n",
       "premium_user              False\n",
       "pornhub_awards_winner     False\n",
       "age                       False\n",
       "background                False\n",
       "birthday                  False\n",
       "birthplace                False\n",
       "born                      False\n",
       "career_start_and_end      False\n",
       "career_status             False\n",
       "city_and_country          False\n",
       "endowment                 False\n",
       "ethnicity                 False\n",
       "eye_color                 False\n",
       "facial_hair               False\n",
       "fake_boobs                False\n",
       "foreskin                  False\n",
       "gender                    False\n",
       "hair_color                False\n",
       "height                    False\n",
       "weight                    False\n",
       "interested_in             False\n",
       "interests_and_hobbies     False\n",
       "joined                    False\n",
       "measurements              False\n",
       "piercings                 False\n",
       "pornstar_profile_views    False\n",
       "profile_views             False\n",
       "relationship_status       False\n",
       "star_sign                 False\n",
       "tattoos                   False\n",
       "turn_offs                 False\n",
       "turn_ons                  False\n",
       "video_views               False\n",
       "videos_watched            False\n",
       "hometown                  False\n",
       "dtype: bool"
      ]
     },
     "execution_count": 14,
     "metadata": {},
     "output_type": "execute_result"
    }
   ],
   "source": [
    "### Replacing NaN with 0 for missing values in relevant numeric columns.\n",
    "df_porn_stars_clean.pornstar_rank.fillna(0, inplace=True)\n",
    "df_porn_stars_clean.uploaded_by_actor.fillna(0, inplace=True)\n",
    "df_porn_stars_clean.paid_videos.fillna(0, inplace=True)\n",
    "df_porn_stars_clean.fan_club_material.fillna(0, inplace=True)\n",
    "\n",
    "df_porn_stars_clean.isna().any()"
   ]
  },
  {
   "cell_type": "code",
   "execution_count": 15,
   "metadata": {},
   "outputs": [
    {
     "name": "stdout",
     "output_type": "stream",
     "text": [
      "34\n"
     ]
    },
    {
     "data": {
      "text/plain": [
       "Index(['bio', 'age', 'background', 'birthday', 'birthplace', 'born',\n",
       "       'career_start_and_end', 'career_status', 'city_and_country',\n",
       "       'endowment', 'ethnicity', 'eye_color', 'facial_hair', 'fake_boobs',\n",
       "       'foreskin', 'gender', 'hair_color', 'height', 'weight', 'interested_in',\n",
       "       'interests_and_hobbies', 'joined', 'measurements', 'piercings',\n",
       "       'pornstar_profile_views', 'profile_views', 'relationship_status',\n",
       "       'star_sign', 'tattoos', 'turn_offs', 'turn_ons', 'video_views',\n",
       "       'videos_watched', 'hometown'],\n",
       "      dtype='object')"
      ]
     },
     "execution_count": 15,
     "metadata": {},
     "output_type": "execute_result"
    }
   ],
   "source": [
    "### which columns contain '-'?\n",
    "print(df_porn_stars_clean.columns[df_porn_stars_clean.eq('-').any()].size)\n",
    "df_porn_stars_clean.columns[df_porn_stars_clean.eq('-').any()]\n"
   ]
  },
  {
   "cell_type": "code",
   "execution_count": 16,
   "metadata": {},
   "outputs": [
    {
     "name": "stdout",
     "output_type": "stream",
     "text": [
      "13\n"
     ]
    },
    {
     "data": {
      "text/plain": [
       "Index(['url', 'name', 'subscribers', 'videos_views', 'pornhub_rank',\n",
       "       'pornstar_rank', 'uploaded_by_actor', 'paid_videos',\n",
       "       'fan_club_material', 'verified_pornstar', 'verified_member',\n",
       "       'premium_user', 'pornhub_awards_winner'],\n",
       "      dtype='object')"
      ]
     },
     "execution_count": 16,
     "metadata": {},
     "output_type": "execute_result"
    }
   ],
   "source": [
    "### which columns don't contain '-'?\n",
    "print(df_porn_stars_clean.columns[~df_porn_stars_clean.eq('-').any()].size)\n",
    "df_porn_stars_clean.columns[~df_porn_stars_clean.eq('-').any()]"
   ]
  },
  {
   "cell_type": "code",
   "execution_count": 17,
   "metadata": {},
   "outputs": [
    {
     "data": {
      "text/plain": [
       "(17374, 47)"
      ]
     },
     "execution_count": 17,
     "metadata": {},
     "output_type": "execute_result"
    }
   ],
   "source": [
    "### how many rows contain '-'?\n",
    "df_porn_stars_clean[(df_porn_stars_clean.values == '-').any(axis=1)].shape\n",
    "### looks like every row contains '-' at least once"
   ]
  },
  {
   "cell_type": "code",
   "execution_count": 18,
   "metadata": {},
   "outputs": [
    {
     "name": "stdout",
     "output_type": "stream",
     "text": [
      "17374\n"
     ]
    },
    {
     "data": {
      "text/plain": [
       "Index(['url', 'name', 'bio', 'subscribers', 'videos_views', 'pornhub_rank',\n",
       "       'pornstar_rank', 'uploaded_by_actor', 'paid_videos',\n",
       "       'fan_club_material', 'verified_pornstar', 'verified_member',\n",
       "       'premium_user', 'pornhub_awards_winner', 'age', 'background',\n",
       "       'birthday', 'birthplace', 'born', 'career_start_and_end',\n",
       "       'career_status', 'city_and_country', 'endowment', 'ethnicity',\n",
       "       'eye_color', 'facial_hair', 'fake_boobs', 'foreskin', 'gender',\n",
       "       'hair_color', 'height', 'weight', 'interested_in',\n",
       "       'interests_and_hobbies', 'joined', 'measurements', 'piercings',\n",
       "       'pornstar_profile_views', 'profile_views', 'relationship_status',\n",
       "       'star_sign', 'tattoos', 'turn_offs', 'turn_ons', 'videos_watched',\n",
       "       'hometown'],\n",
       "      dtype='object')"
      ]
     },
     "execution_count": 18,
     "metadata": {},
     "output_type": "execute_result"
    }
   ],
   "source": [
    "### It seems the video_views column is not relevant as it contains only '-'\n",
    "df_porn_stars_clean.video_views[(df_porn_stars_clean.video_views == '-')].count()\n",
    "print(df_porn_stars_clean.video_views[df_porn_stars_clean.video_views.str.contains(r'-')].count())\n",
    "\n",
    "### Let's delete / drop it.\n",
    "### Run the line below only once.\n",
    "del df_porn_stars_clean['video_views']\n",
    "\n",
    "df_porn_stars_clean.columns"
   ]
  },
  {
   "cell_type": "code",
   "execution_count": 19,
   "metadata": {},
   "outputs": [
    {
     "name": "stdout",
     "output_type": "stream",
     "text": [
      "14728\n"
     ]
    },
    {
     "data": {
      "text/plain": [
       "Index(['url', 'name', 'bio', 'subscribers', 'videos_views', 'pornhub_rank',\n",
       "       'pornstar_rank', 'uploaded_by_actor', 'paid_videos',\n",
       "       'fan_club_material', 'verified_pornstar', 'verified_member',\n",
       "       'premium_user', 'pornhub_awards_winner', 'age', 'background',\n",
       "       'birthday', 'birthplace', 'born', 'career_start_and_end',\n",
       "       'career_status', 'city_and_country', 'endowment', 'ethnicity',\n",
       "       'eye_color', 'facial_hair', 'fake_boobs', 'foreskin', 'gender',\n",
       "       'hair_color', 'height', 'weight', 'interested_in',\n",
       "       'interests_and_hobbies', 'joined', 'measurements', 'piercings',\n",
       "       'pornstar_profile_views', 'profile_views', 'relationship_status',\n",
       "       'star_sign', 'tattoos', 'turn_offs', 'turn_ons', 'hometown'],\n",
       "      dtype='object')"
      ]
     },
     "execution_count": 19,
     "metadata": {},
     "output_type": "execute_result"
    }
   ],
   "source": [
    "### It seems the videos_watched column is not relevant as it mostly contains '-'\n",
    "df_porn_stars_clean.videos_watched[(df_porn_stars_clean.videos_watched == '-')].count()\n",
    "print(df_porn_stars_clean.videos_watched[df_porn_stars_clean.videos_watched.str.contains(r'-')].count())\n",
    "\n",
    "### Let's delete / drop it.\n",
    "### Run the line below only once.\n",
    "df_porn_stars_clean.drop('videos_watched', axis =1, inplace = True)\n",
    "\n",
    "df_porn_stars_clean.columns"
   ]
  },
  {
   "cell_type": "code",
   "execution_count": 38,
   "metadata": {},
   "outputs": [],
   "source": [
    "### https://stackoverflow.com/questions/39433738/changing-strings-into-integers\n",
    "def convert_string_nums_to_int(value):\n",
    "    if isinstance(value, int):\n",
    "        return value\n",
    "    if value:\n",
    "        # determine multiplier\n",
    "        multiplier = 1\n",
    "        if value.endswith('K'):\n",
    "            multiplier = 1000\n",
    "            value = value[0:len(value)-1] # strip multiplier character\n",
    "        elif value.endswith('M'):\n",
    "            multiplier = 1000000\n",
    "            value = value[0:len(value)-1] # strip multiplier character\n",
    "        # convert value to float, multiply, then convert the result to int\n",
    "        return int(float(value.replace(',', '')) * multiplier)\n",
    "    else:\n",
    "        return 0"
   ]
  },
  {
   "cell_type": "code",
   "execution_count": 323,
   "metadata": {},
   "outputs": [],
   "source": [
    "### Converting columns to more relevant types.\n",
    "df_porn_stars_clean.url = df_porn_stars_clean.url.astype(dtype=\"string\")\n",
    "df_porn_stars_clean.name = df_porn_stars_clean.name.astype(dtype=\"string\")\n",
    "df_porn_stars_clean.bio = df_porn_stars_clean.bio.astype(dtype=\"string\")\n",
    "df_porn_stars_clean.background = df_porn_stars_clean.background.astype(dtype=\"string\")\n",
    "df_porn_stars_clean.birthplace = df_porn_stars_clean.birthplace.astype(dtype=\"string\")\n",
    "df_porn_stars_clean.career_status = df_porn_stars_clean.career_status.astype(dtype=\"string\")\n",
    "df_porn_stars_clean.city_and_country = df_porn_stars_clean.city_and_country.astype(dtype=\"string\")\n",
    "df_porn_stars_clean.ethnicity = df_porn_stars_clean.ethnicity.astype(dtype=\"string\")\n",
    "df_porn_stars_clean.eye_color = df_porn_stars_clean.eye_color.astype(dtype=\"string\")\n",
    "df_porn_stars_clean.facial_hair = df_porn_stars_clean.facial_hair.astype(dtype=\"string\")\n",
    "df_porn_stars_clean.fake_boobs = df_porn_stars_clean.fake_boobs.astype(dtype=\"string\")\n",
    "df_porn_stars_clean.foreskin = df_porn_stars_clean.foreskin.astype(dtype=\"string\")\n",
    "df_porn_stars_clean.gender = df_porn_stars_clean.gender.astype(dtype=\"string\")\n",
    "df_porn_stars_clean.hair_color = df_porn_stars_clean.hair_color.astype(dtype=\"string\")\n",
    "df_porn_stars_clean.interested_in = df_porn_stars_clean.interested_in.astype(dtype=\"string\")\n",
    "df_porn_stars_clean.interests_and_hobbies = df_porn_stars_clean.interests_and_hobbies.astype(dtype=\"string\")\n",
    "df_porn_stars_clean.joined = df_porn_stars_clean.joined.astype(dtype=\"string\")\n",
    "df_porn_stars_clean.piercings = df_porn_stars_clean.piercings.astype(dtype=\"string\")\n",
    "df_porn_stars_clean.relationship_status = df_porn_stars_clean.relationship_status.astype(dtype=\"string\")\n",
    "df_porn_stars_clean.star_sign = df_porn_stars_clean.star_sign.astype(dtype=\"string\")\n",
    "df_porn_stars_clean.turn_offs = df_porn_stars_clean.turn_offs.astype(dtype=\"string\")\n",
    "df_porn_stars_clean.turn_ons = df_porn_stars_clean.turn_ons.astype(dtype=\"string\")\n",
    "df_porn_stars_clean.hometown = df_porn_stars_clean.hometown.astype(dtype=\"string\")\n",
    "df_porn_stars_clean.tattoos = df_porn_stars_clean.tattoos.astype(dtype=\"string\")\n",
    "df_porn_stars_clean.career_start_and_end = df_porn_stars_clean.career_start_and_end.astype(dtype=\"string\")\n",
    "df_porn_stars_clean.measurements = df_porn_stars_clean.measurements.astype(dtype=\"string\")\n",
    "df_porn_stars_clean.endowment = df_porn_stars_clean.endowment.astype(dtype=\"string\")\n",
    "\n",
    "### Run the line/s below only once:\n",
    "### df_porn_stars_clean.videos_views = df_porn_stars_clean.videos_views.str.replace(',', '').astype(float).astype(int)\n",
    "df_porn_stars_clean.pornstar_rank = df_porn_stars_clean.pornstar_rank.astype('Int64')\n",
    "df_porn_stars_clean.uploaded_by_actor = df_porn_stars_clean.uploaded_by_actor.astype('Int64')\n",
    "df_porn_stars_clean.paid_videos = df_porn_stars_clean.paid_videos.astype('Int64')\n",
    "df_porn_stars_clean.fan_club_material = df_porn_stars_clean.fan_club_material.astype('Int64')\n",
    "\n",
    "### Converting missing values to NaN.\n",
    "df_porn_stars_clean.age = pd.to_numeric(df_porn_stars_clean.age, errors='coerce').astype('Int64')\n",
    "### Replace NaNs with zeros (0).\n",
    "df_porn_stars_clean.age.fillna(0, inplace=True)\n",
    "### df_porn_stars_clean.age.head(50)\n",
    "\n",
    "df_porn_stars_clean.subscribers = df_porn_stars_clean.subscribers.apply(lambda x: convert_string_nums_to_int(x))\n",
    "\n",
    "### Run the line/s below only once:\n",
    "### df_porn_stars_clean.videos_views = df_porn_stars_clean.videos_views.str.replace(',', '').astype(float).astype('Int64')\n",
    "\n",
    "### Run the line/s below only once:\n",
    "### df_porn_stars_clean.pornstar_profile_views = df_porn_stars_clean.pornstar_profile_views.str.replace('-', '0')\n",
    "### df_porn_stars_clean.pornstar_profile_views = df_porn_stars_clean.pornstar_profile_views.str.replace(',', '').astype(float).astype(int)\n",
    "\n",
    "### Run the line/s below only once:\n",
    "### df_porn_stars_clean.profile_views = df_porn_stars_clean.profile_views.str.replace('-', '0')\n",
    "### df_porn_stars_clean.profile_views = df_porn_stars_clean.profile_views.str.replace(',', '').astype(float).astype(int)\n",
    "\n",
    "df_porn_stars_clean.birthday = pd.to_datetime(df_porn_stars_clean.birthday, format=\"%b %d, %Y\", errors='coerce')\n",
    "\n",
    "df_porn_stars_clean.born = pd.to_datetime(df_porn_stars_clean.born, infer_datetime_format=True, errors='coerce')\n",
    "\n",
    "\n",
    "\n",
    "\n",
    "\n",
    "# df_porn_stars_clean.measurements = df_porn_stars_clean.measurements.astype(dtype=\"string\")\n",
    "\n",
    "df_porn_stars_clean.endowment = df_porn_stars_clean.endowment.astype(dtype=\"string\")\n",
    "\n",
    "def endowment_clean_1(value):\n",
    "    regexp_1 = re.compile(r'^(\\d-)(\\d+)')\n",
    "    if regexp_1.match(value):\n",
    "        # Getting the bigger of the two values in the range:\n",
    "        return regexp_1.match(value).group(2)\n",
    "    else:\n",
    "        return value\n",
    "    \n",
    "df_porn_stars_clean.endowment = df_porn_stars_clean.endowment.apply(lambda x: endowment_clean_1(x))\n",
    "\n",
    "\n",
    "def endowment_clean_2(value):\n",
    "    regexp_1 = re.compile(r'^(\\d+)\\\"')\n",
    "    if regexp_1.match(value):\n",
    "        return regexp_1.match(value).group(1)\n",
    "    else:\n",
    "        return value\n",
    "\n",
    "df_porn_stars_clean.endowment = df_porn_stars_clean.endowment.apply(lambda x: endowment_clean_2(x))\n",
    "\n",
    "def endowment_clean_3(value):\n",
    "    regexp_1 = re.compile(r'^(\\w*)(\\s)(\\d+)\\\"')\n",
    "    if regexp_1.match(value):\n",
    "        return regexp_1.match(value).group(3)\n",
    "    else:\n",
    "        return value\n",
    "\n",
    "df_porn_stars_clean.endowment = df_porn_stars_clean.endowment.apply(lambda x: endowment_clean_3(x))\n",
    "\n",
    "df_porn_stars_clean.endowment = df_porn_stars_clean.endowment.str.replace('-', '0').astype(int)\n",
    "\n",
    "# print(df_porn_stars_clean.endowment)   \n",
    "# print(df_porn_stars_clean.endowment.loc[1057])\n",
    "# print(df_porn_stars_clean.endowment.loc[1060])\n",
    "# print(df_porn_stars_clean.endowment.loc[1622])\n",
    "\n",
    "\n",
    "# print(df_porn_stars_clean.endowment.tail(50))\n",
    "\n",
    "\n",
    "# df_porn_stars_clean.dtypes\n"
   ]
  },
  {
   "cell_type": "code",
   "execution_count": null,
   "metadata": {},
   "outputs": [],
   "source": []
  },
  {
   "cell_type": "code",
   "execution_count": null,
   "metadata": {},
   "outputs": [],
   "source": []
  },
  {
   "cell_type": "code",
   "execution_count": null,
   "metadata": {},
   "outputs": [],
   "source": []
  },
  {
   "cell_type": "code",
   "execution_count": null,
   "metadata": {},
   "outputs": [],
   "source": []
  },
  {
   "cell_type": "code",
   "execution_count": null,
   "metadata": {},
   "outputs": [],
   "source": []
  },
  {
   "cell_type": "code",
   "execution_count": null,
   "metadata": {},
   "outputs": [],
   "source": []
  },
  {
   "cell_type": "code",
   "execution_count": null,
   "metadata": {},
   "outputs": [],
   "source": []
  },
  {
   "cell_type": "markdown",
   "metadata": {},
   "source": []
  },
  {
   "cell_type": "code",
   "execution_count": null,
   "metadata": {},
   "outputs": [],
   "source": [
    "df_porn_models = pd.read_csv(\n",
    "    filepath_or_buffer='./data/models_v3.csv',\n",
    "#     header=None,\n",
    "    sep=',',\n",
    "    engine='python')\n",
    "\n",
    "df_porn_models.head(5)"
   ]
  },
  {
   "cell_type": "code",
   "execution_count": null,
   "metadata": {},
   "outputs": [],
   "source": [
    "df_porn_models.shape"
   ]
  },
  {
   "cell_type": "code",
   "execution_count": null,
   "metadata": {},
   "outputs": [],
   "source": []
  },
  {
   "cell_type": "code",
   "execution_count": null,
   "metadata": {},
   "outputs": [],
   "source": []
  },
  {
   "cell_type": "code",
   "execution_count": null,
   "metadata": {},
   "outputs": [],
   "source": []
  },
  {
   "cell_type": "code",
   "execution_count": null,
   "metadata": {},
   "outputs": [],
   "source": []
  },
  {
   "cell_type": "code",
   "execution_count": null,
   "metadata": {},
   "outputs": [],
   "source": []
  },
  {
   "cell_type": "code",
   "execution_count": null,
   "metadata": {},
   "outputs": [],
   "source": []
  },
  {
   "cell_type": "code",
   "execution_count": null,
   "metadata": {},
   "outputs": [],
   "source": []
  },
  {
   "cell_type": "code",
   "execution_count": null,
   "metadata": {},
   "outputs": [],
   "source": []
  },
  {
   "cell_type": "code",
   "execution_count": null,
   "metadata": {},
   "outputs": [],
   "source": []
  },
  {
   "cell_type": "code",
   "execution_count": null,
   "metadata": {},
   "outputs": [],
   "source": []
  },
  {
   "cell_type": "markdown",
   "metadata": {},
   "source": [
    "## References <a id=\"ReferencesSection\"></a>\n",
    "\n",
    "### SoftUni Module: Artificial Intelligence - February 2021 <a id=\"SoftUniModuleArtificialIntelligenceFebruary2021\"></a>\n",
    "<https://softuni.bg/modules/111/artificial-intelligence-february-2021/1276>\n",
    "\n",
    "### SoftUni Course: Math Concepts for Developers - February 2021 <a id=\"SoftUniCourseMathConceptsforDevelopersFebruary2021\"></a>\n",
    "<https://softuni.bg/trainings/3282/math-concepts-for-developers-february-2021>\n",
    "\n",
    "### SoftUni Course: Data Science - June 2021 <a id=\"SoftUniCourseDataScienceJune2021\"></a>\n",
    "<https://softuni.bg/trainings/3283/data-science-june-2021>\n",
    "\n",
    "### SoftUni Course: Machine Learning - September 2021 <a id=\"SoftUniCourseMachineLearningSeptember2021\"></a>\n",
    "<https://softuni.bg/trainings/3284/machine-learning-september-2021>\n",
    "\n",
    "### SoftUni Course: Deep Learning - December 2021 <a id=\"SoftUniCourseDeepLearningDecember2021\"></a>\n",
    "<https://softuni.bg/trainings/3285/deep-learning-december-2021>\n",
    "\n",
    "### SoftUni Course: Math Concepts for Developers - February 2021 - LINEAR ALGEBRA<a id=\"SoftUniCourseMathConceptsforDevelopersFebruary2021LINEARALGEBRA\"></a>\n",
    "<https://softuni.bg/trainings/3282/math-concepts-for-developers-february-2021#lesson-24870>\n",
    "\n",
    "### SoftUni Course: Math Concepts for Developers - February 2021 - LINEAR ALGEBRA EXERCISE<a id=\"SoftUniCourseMathConceptsforDevelopersFebruary2021LINEARALGEBRAEXERCISE\"></a>\n",
    "<https://softuni.bg/trainings/3282/math-concepts-for-developers-february-2021#lesson-24871>\n",
    "\n",
    "---\n",
    "\n",
    "###  Pornhub Models and Pornstars 18+ <a id=\"PornhubModelsandPornstars18\"></a>\n",
    "<https://www.kaggle.com/infamous25700/pornhub-models-and-pornostars-18>\n",
    "\n",
    "### Starter: Pornhub Models and Pornostars 04fe275c-8  <a id=\"StarterPornhubModelsandPornostars04fe275c8\"></a>\n",
    "<https://www.kaggle.com/kerneler/starter-pornhub-models-and-pornostars-04fe275c-8>\n",
    "\n",
    "### Pornactors are among us! (18+)  <a id=\"Pornactorsareamongus18\"></a>\n",
    "<https://www.kaggle.com/infamous25700/pornactors-are-among-us-18>\n",
    "\n",
    "---\n",
    "\n",
    "###  <a id=\"\"></a>\n",
    "<>\n",
    "\n",
    "###  <a id=\"\"></a>\n",
    "<>\n",
    "\n",
    "###  <a id=\"\"></a>\n",
    "<>\n",
    "\n",
    "---\n",
    "\n",
    "###  <a id=\"\"></a>\n",
    "<>\n",
    "\n",
    "###  <a id=\"\"></a>\n",
    "<>\n",
    "\n",
    "###  <a id=\"\"></a>\n",
    "<>\n",
    "\n",
    "###  <a id=\"\"></a>\n",
    "<>\n",
    "\n",
    "###  <a id=\"\"></a>\n",
    "<>\n",
    "\n",
    "###  <a id=\"\"></a>\n",
    "<>\n",
    "\n",
    "###  <a id=\"\"></a>\n",
    "<>\n",
    "\n",
    "###  <a id=\"\"></a>\n",
    "<>\n",
    "\n",
    "###  <a id=\"\"></a>\n",
    "<>\n",
    "\n",
    "###  <a id=\"\"></a>\n",
    "<>\n",
    "\n",
    "###  <a id=\"\"></a>\n",
    "<>\n",
    "\n",
    "###  <a id=\"\"></a>\n",
    "<>\n",
    "\n",
    "###  <a id=\"\"></a>\n",
    "<>\n",
    "\n",
    "###  <a id=\"\"></a>\n",
    "<>\n",
    "\n",
    "###  <a id=\"\"></a>\n",
    "<>\n",
    "\n",
    "###  <a id=\"\"></a>\n",
    "<>\n",
    "\n",
    "###  <a id=\"\"></a>\n",
    "<>\n",
    "\n",
    "### Girl #1257230 <a id=\"Girl1257230\"></a>\n",
    "<http://clipart-library.com/clipart/yTkrqR5gc.htm>\n",
    "\n",
    "### 18. Birthday #1781099 <a id=\"18Birthday1781099\"></a>\n",
    "<http://clipart-library.com/clipart/qTBorGeMc.htm>\n",
    "\n",
    "### Censored Transparent \\#1468618 <a id=\"CensoredTransparent1468618\"></a>\n",
    "<http://clipart-library.com/clip-art/censored-transparent-23.htm>\n"
   ]
  }
 ],
 "metadata": {
  "kernelspec": {
   "display_name": "Python 3",
   "language": "python",
   "name": "python3"
  },
  "language_info": {
   "codemirror_mode": {
    "name": "ipython",
    "version": 3
   },
   "file_extension": ".py",
   "mimetype": "text/x-python",
   "name": "python",
   "nbconvert_exporter": "python",
   "pygments_lexer": "ipython3",
   "version": "3.8.5"
  },
  "toc": {
   "base_numbering": 1,
   "nav_menu": {},
   "number_sections": true,
   "sideBar": true,
   "skip_h1_title": false,
   "title_cell": "Table of Contents",
   "title_sidebar": "Contents",
   "toc_cell": false,
   "toc_position": {},
   "toc_section_display": true,
   "toc_window_display": false
  }
 },
 "nbformat": 4,
 "nbformat_minor": 4
}
